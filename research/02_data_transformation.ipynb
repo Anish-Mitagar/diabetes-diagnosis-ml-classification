{
 "cells": [
  {
   "cell_type": "code",
   "execution_count": 1,
   "metadata": {},
   "outputs": [],
   "source": [
    "import os"
   ]
  },
  {
   "cell_type": "code",
   "execution_count": 2,
   "metadata": {},
   "outputs": [
    {
     "data": {
      "text/plain": [
       "'/Users/anishmitagar/Documents/repos/summer_2023_projects/end-to-end-diabetes-project/research'"
      ]
     },
     "execution_count": 2,
     "metadata": {},
     "output_type": "execute_result"
    }
   ],
   "source": [
    "%pwd"
   ]
  },
  {
   "cell_type": "code",
   "execution_count": 4,
   "metadata": {},
   "outputs": [],
   "source": [
    "os.chdir('/Users/anishmitagar/Documents/repos/summer_2023_projects/end-to-end-diabetes-project')"
   ]
  },
  {
   "cell_type": "code",
   "execution_count": 5,
   "metadata": {},
   "outputs": [
    {
     "data": {
      "text/plain": [
       "'/Users/anishmitagar/Documents/repos/summer_2023_projects/end-to-end-diabetes-project'"
      ]
     },
     "execution_count": 5,
     "metadata": {},
     "output_type": "execute_result"
    }
   ],
   "source": [
    "%pwd"
   ]
  },
  {
   "cell_type": "code",
   "execution_count": 6,
   "metadata": {},
   "outputs": [],
   "source": [
    "from dataclasses import dataclass\n",
    "from pathlib import Path\n",
    "\n",
    "\n",
    "@dataclass(frozen=True)\n",
    "class DataTransformationConfig:\n",
    "    root_dir: Path\n",
    "    data_path: Path\n",
    "    save_path: Path\n",
    "    preprocessor_path: Path"
   ]
  },
  {
   "cell_type": "code",
   "execution_count": 7,
   "metadata": {},
   "outputs": [],
   "source": [
    "from mlClassifier.constants import *\n",
    "from mlClassifier.utils.common import read_yaml, create_directories"
   ]
  },
  {
   "cell_type": "code",
   "execution_count": 8,
   "metadata": {},
   "outputs": [],
   "source": [
    "class ConfigurationManager:\n",
    "    def __init__(\n",
    "        self,\n",
    "        config_filepath = CONFIG_FILE_PATH,\n",
    "        params_filepath = PARAMS_FILE_PATH):\n",
    "\n",
    "        self.config = read_yaml(config_filepath)\n",
    "        self.params = read_yaml(params_filepath)\n",
    "\n",
    "        create_directories([self.config.artifacts_root])\n",
    "\n",
    "    def get_data_transformation_config(self) -> DataTransformationConfig:\n",
    "        config = self.config.data_transformation\n",
    "\n",
    "        create_directories([config.root_dir])\n",
    "\n",
    "        data_transformation_config = DataTransformationConfig(\n",
    "            root_dir=config.root_dir,\n",
    "            data_path=config.data_path,\n",
    "            save_path=config.save_path,\n",
    "            preprocessor_path=config.preprocessor_path\n",
    "        )\n",
    "\n",
    "        return data_transformation_config"
   ]
  },
  {
   "cell_type": "code",
   "execution_count": 9,
   "metadata": {},
   "outputs": [],
   "source": [
    "from sklearn.compose import ColumnTransformer\n",
    "from sklearn.pipeline import Pipeline\n",
    "from sklearn.preprocessing import OneHotEncoder\n",
    "from sklearn.preprocessing import MinMaxScaler\n",
    "import numpy as np\n",
    "import pandas as pd"
   ]
  },
  {
   "cell_type": "code",
   "execution_count": 10,
   "metadata": {},
   "outputs": [],
   "source": [
    "import os\n",
    "import sys\n",
    "import dill\n",
    "import pickle\n",
    "\n",
    "def save_object(file_path, obj):\n",
    "\n",
    "    dir_path = os.path.dirname(file_path)\n",
    "\n",
    "    os.makedirs(dir_path, exist_ok=True)\n",
    "\n",
    "    with open(file_path, \"wb\") as file_obj:\n",
    "        dill.dump(obj, file_obj)\n",
    "    \n",
    "\n",
    "    \n",
    "def load_object(file_path):\n",
    "\n",
    "    with open(file_path, \"rb\") as file_obj:\n",
    "        return pickle.load(file_obj)"
   ]
  },
  {
   "cell_type": "code",
   "execution_count": 11,
   "metadata": {},
   "outputs": [],
   "source": [
    "class DataTransformation:\n",
    "    def __init__(self, config: DataTransformationConfig):\n",
    "        self.config = config\n",
    "\n",
    "    def transform_and_save(self):\n",
    "        df = pd.read_csv(self.config.data_path)\n",
    "        df = df.drop_duplicates()\n",
    "\n",
    "        X, y = df.drop(columns=['diabetes'],axis=1), pd.DataFrame(df['diabetes'])\n",
    "\n",
    "        numerical_columns = list(X.select_dtypes(exclude=\"object\").columns)\n",
    "        categorical_columns = list(X.select_dtypes(include=\"object\").columns)\n",
    "\n",
    "        num_pipeline = Pipeline (\n",
    "            steps=[\n",
    "                (\"scaler\", MinMaxScaler())        \n",
    "            ]\n",
    "        )\n",
    "        cat_pipeline = Pipeline (\n",
    "            steps=[\n",
    "                (\"one_hot_encoder\", OneHotEncoder()),\n",
    "            ]\n",
    "        )\n",
    "\n",
    "        preprocessor = ColumnTransformer (\n",
    "            [\n",
    "                (\"num_pipline\", num_pipeline, numerical_columns),\n",
    "                (\"cat_pipline\", cat_pipeline, categorical_columns)\n",
    "            ]\n",
    "        )\n",
    "\n",
    "        X = pd.DataFrame(preprocessor.fit_transform(X))\n",
    "        y.reset_index(drop=True, inplace=True)\n",
    "        df = pd.concat([X, y], axis=1)\n",
    "        df.to_csv(self.config.save_path, index=False)\n",
    "\n",
    "        save_object(file_path=self.config.preprocessor_path, obj=preprocessor)\n"
   ]
  },
  {
   "cell_type": "code",
   "execution_count": 12,
   "metadata": {},
   "outputs": [
    {
     "name": "stdout",
     "output_type": "stream",
     "text": [
      "[2023-07-22 10:25:14,930: INFO: common: yaml file: config/config.yaml loaded successfully]\n",
      "[2023-07-22 10:25:14,935: INFO: common: yaml file: params.yaml loaded successfully]\n",
      "[2023-07-22 10:25:14,935: INFO: common: created directory at: artifacts]\n",
      "[2023-07-22 10:25:14,936: INFO: common: created directory at: artifacts/data_transformation]\n"
     ]
    }
   ],
   "source": [
    "try:\n",
    "    config = ConfigurationManager()\n",
    "    data_transformation_config = config.get_data_transformation_config()\n",
    "    data_transformation = DataTransformation(config=data_transformation_config)\n",
    "    data_transformation.transform_and_save()\n",
    "except Exception as e:\n",
    "    raise e"
   ]
  }
 ],
 "metadata": {
  "kernelspec": {
   "display_name": "Python 3",
   "language": "python",
   "name": "python3"
  },
  "language_info": {
   "codemirror_mode": {
    "name": "ipython",
    "version": 3
   },
   "file_extension": ".py",
   "mimetype": "text/x-python",
   "name": "python",
   "nbconvert_exporter": "python",
   "pygments_lexer": "ipython3",
   "version": "3.9.17"
  },
  "orig_nbformat": 4
 },
 "nbformat": 4,
 "nbformat_minor": 2
}
