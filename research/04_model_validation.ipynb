{
 "cells": [
  {
   "cell_type": "code",
   "execution_count": 1,
   "metadata": {},
   "outputs": [],
   "source": [
    "import os"
   ]
  },
  {
   "cell_type": "code",
   "execution_count": 2,
   "metadata": {},
   "outputs": [
    {
     "data": {
      "text/plain": [
       "'/Users/anishmitagar/Documents/repos/summer_2023_projects/end-to-end-diabetes-project/research'"
      ]
     },
     "execution_count": 2,
     "metadata": {},
     "output_type": "execute_result"
    }
   ],
   "source": [
    "%pwd"
   ]
  },
  {
   "cell_type": "code",
   "execution_count": 3,
   "metadata": {},
   "outputs": [],
   "source": [
    "os.chdir('/Users/anishmitagar/Documents/repos/summer_2023_projects/end-to-end-diabetes-project')"
   ]
  },
  {
   "cell_type": "code",
   "execution_count": 4,
   "metadata": {},
   "outputs": [
    {
     "data": {
      "text/plain": [
       "'/Users/anishmitagar/Documents/repos/summer_2023_projects/end-to-end-diabetes-project'"
      ]
     },
     "execution_count": 4,
     "metadata": {},
     "output_type": "execute_result"
    }
   ],
   "source": [
    "%pwd"
   ]
  },
  {
   "cell_type": "code",
   "execution_count": 5,
   "metadata": {},
   "outputs": [],
   "source": [
    "from os.path import exists"
   ]
  },
  {
   "cell_type": "code",
   "execution_count": 6,
   "metadata": {},
   "outputs": [],
   "source": [
    "from dataclasses import dataclass\n",
    "from pathlib import Path\n",
    "\n",
    "\n",
    "@dataclass(frozen=True)\n",
    "class ModelValidationConfig:\n",
    "    root_dir: Path\n",
    "    save_dir: Path\n",
    "    data_path: Path\n",
    "    best_acc_model_path_pth: Path\n",
    "    best_acc_model_path_pkl: Path\n",
    "    best_f1_model_path_pth: Path\n",
    "    best_f1_model_path_pkl: Path\n"
   ]
  },
  {
   "cell_type": "code",
   "execution_count": 7,
   "metadata": {},
   "outputs": [],
   "source": [
    "from mlClassifier.constants import *\n",
    "from mlClassifier.utils.common import read_yaml, create_directories, save_json"
   ]
  },
  {
   "cell_type": "code",
   "execution_count": 8,
   "metadata": {},
   "outputs": [],
   "source": [
    "class ConfigurationManager:\n",
    "    def __init__(\n",
    "        self,\n",
    "        config_filepath = CONFIG_FILE_PATH,\n",
    "        params_filepath = PARAMS_FILE_PATH):\n",
    "\n",
    "        self.config = read_yaml(config_filepath)\n",
    "        self.params = read_yaml(params_filepath)\n",
    "\n",
    "        create_directories([self.config.artifacts_root])\n",
    "    \n",
    "    def get_model_validation_config(self) -> ModelValidationConfig:\n",
    "        config = self.config.model_validation\n",
    "        \n",
    "\n",
    "        create_directories([config.root_dir])\n",
    "\n",
    "        model_validation_config = ModelValidationConfig(\n",
    "            root_dir=config.root_dir,\n",
    "            save_dir=config.save_dir,\n",
    "            data_path=config.data_path,\n",
    "            best_acc_model_path_pth=config.best_acc_model_path_pth,\n",
    "            best_acc_model_path_pkl=config.best_acc_model_path_pkl,\n",
    "            best_f1_model_path_pth=config.best_f1_model_path_pth,\n",
    "            best_f1_model_path_pkl=config.best_f1_model_path_pkl\n",
    "        )\n",
    "\n",
    "        return model_validation_config"
   ]
  },
  {
   "cell_type": "code",
   "execution_count": 9,
   "metadata": {},
   "outputs": [
    {
     "name": "stdout",
     "output_type": "stream",
     "text": [
      "[2023-07-22 10:36:45,811: INFO: common: yaml file: config/config.yaml loaded successfully]\n",
      "[2023-07-22 10:36:45,813: INFO: common: yaml file: params.yaml loaded successfully]\n",
      "[2023-07-22 10:36:45,814: INFO: common: created directory at: artifacts]\n",
      "[2023-07-22 10:36:45,814: INFO: common: created directory at: artifacts/model_validation]\n"
     ]
    }
   ],
   "source": [
    "config = ConfigurationManager()\n",
    "model_trainer_config = config.get_model_validation_config()"
   ]
  },
  {
   "cell_type": "code",
   "execution_count": 10,
   "metadata": {},
   "outputs": [],
   "source": [
    "import pandas as pd\n",
    "from os.path import exists\n",
    "import os\n",
    "import sys\n",
    "import dill\n",
    "import pickle\n",
    "import torch\n",
    "\n",
    "def save_object(file_path, obj):\n",
    "\n",
    "    dir_path = os.path.dirname(file_path)\n",
    "\n",
    "    os.makedirs(dir_path, exist_ok=True)\n",
    "\n",
    "    with open(file_path, \"wb\") as file_obj:\n",
    "        dill.dump(obj, file_obj)\n",
    "    \n",
    "\n",
    "    \n",
    "def load_object(file_path):\n",
    "\n",
    "    with open(file_path, \"rb\") as file_obj:\n",
    "        return pickle.load(file_obj)\n"
   ]
  },
  {
   "cell_type": "code",
   "execution_count": 11,
   "metadata": {},
   "outputs": [],
   "source": [
    "import torch.nn as nn\n",
    "\n",
    "class Deep(nn.Module):\n",
    "    def __init__(self):\n",
    "        super().__init__()\n",
    "        self.layer1 = nn.Linear(15, 15)\n",
    "        self.act1 = nn.ReLU()\n",
    "        self.layer2 = nn.Linear(15, 15)\n",
    "        self.act2 = nn.ReLU()\n",
    "        self.layer3 = nn.Linear(15, 15)\n",
    "        self.act3 = nn.ReLU()\n",
    "        self.output = nn.Linear(15, 1)\n",
    "        self.sigmoid = nn.Sigmoid()\n",
    "\n",
    "    def forward(self, x):\n",
    "        x = self.act1(self.layer1(x))\n",
    "        x = self.act2(self.layer2(x))\n",
    "        x = self.act3(self.layer3(x))\n",
    "        x = self.sigmoid(self.output(x))\n",
    "        return x"
   ]
  },
  {
   "cell_type": "code",
   "execution_count": 12,
   "metadata": {},
   "outputs": [],
   "source": [
    "from sklearn import metrics  "
   ]
  },
  {
   "cell_type": "code",
   "execution_count": 13,
   "metadata": {},
   "outputs": [],
   "source": [
    "class ModelValidation:\n",
    "    def __init__(self, config: ModelValidationConfig):\n",
    "        self.config = config\n",
    "\n",
    "    def validate_model_performance(self):\n",
    "        df = pd.read_csv(self.config.data_path)\n",
    "        X, y = df.drop(columns=['diabetes'],axis=1), df['diabetes']\n",
    "        X_tensor = torch.tensor(X.to_numpy(), dtype=torch.float32)\n",
    "        y_tensor = torch.tensor(y.to_numpy(), dtype=torch.float32).reshape(-1, 1)\n",
    "\n",
    "        results = {\"Best_Accuracy_Model_Metrics\": None, \"Best_F1_Model_Metrics\": None}\n",
    "\n",
    "        if exists(self.config.best_acc_model_path_pkl):\n",
    "            model = load_object(self.config.best_acc_model_path_pkl)\n",
    "            y_pred = model.predict(X)\n",
    "            acc, f1, precision, recall = metrics.accuracy_score(y, y_pred), metrics.f1_score(y, y_pred), metrics.precision_score(y, y_pred), metrics.recall_score(y, y_pred)\n",
    "            results['Best_Accuracy_Model_Metrics'] = {\"Accuracy_Score\": acc, \"F1_Score\": f1, \"Precision_Score\": precision, \"Recall_Score\": recall}\n",
    "        elif exists(self.config.best_acc_model_path_pth):\n",
    "            model = Deep()\n",
    "            model.load_state_dict(torch.load(self.config.best_acc_model_path_pth))\n",
    "            model.eval()\n",
    "            y_pred_tensor = model(X_tensor)\n",
    "            y_pred_tensor = y_pred_tensor.round().detach().cpu().numpy()\n",
    "            y_tensor_np = y_tensor.numpy()\n",
    "            acc, f1, precision, recall = metrics.accuracy_score(y_tensor_np, y_pred_tensor), metrics.f1_score(y_tensor_np, y_pred_tensor), metrics.precision_score(y_tensor_np, y_pred_tensor), metrics.recall_score(y_tensor_np, y_pred_tensor)\n",
    "            results['Best_Accuracy_Model_Metrics'] = {\"Accuracy_Score\": acc, \"F1_Score\": f1, \"Precision_Score\": precision, \"Recall_Score\": recall}\n",
    "        else:\n",
    "            print(\"Error\")\n",
    "\n",
    "        if exists(self.config.best_f1_model_path_pkl):\n",
    "            model = load_object(self.config.best_f1_model_path_pkl)\n",
    "            y_pred = model.predict(X)\n",
    "            acc, f1, precision, recall = metrics.accuracy_score(y, y_pred), metrics.f1_score(y, y_pred), metrics.precision_score(y, y_pred), metrics.recall_score(y, y_pred)\n",
    "            results['Best_F1_Model_Metrics'] = {\"Accuracy_Score\": acc, \"F1_Score\": f1, \"Precision_Score\": precision, \"Recall_Score\": recall}\n",
    "        elif exists(self.config.best_f1_model_path_pth):\n",
    "            model = Deep()\n",
    "            model.load_state_dict(torch.load(self.config.best_f1_model_path_pth))\n",
    "            model.eval()\n",
    "            y_pred_tensor = model(X_tensor)\n",
    "            y_pred_tensor = y_pred_tensor.round().detach().cpu().numpy()\n",
    "            y_tensor_np = y_tensor.numpy() \n",
    "            acc, f1, precision, recall = metrics.accuracy_score(y_tensor_np, y_pred_tensor), metrics.f1_score(y_tensor_np, y_pred_tensor), metrics.precision_score(y_tensor_np, y_pred_tensor), metrics.recall_score(y_tensor_np, y_pred_tensor)\n",
    "            results['Best_F1_Model_Metrics'] = {\"Accuracy_Score\": acc, \"F1_Score\": f1, \"Precision_Score\": precision, \"Recall_Score\": recall}\n",
    "        else:\n",
    "            print(\"Error\")\n",
    "\n",
    "        save_json(path = Path(self.config.save_dir), data = results)"
   ]
  },
  {
   "cell_type": "code",
   "execution_count": 14,
   "metadata": {},
   "outputs": [
    {
     "name": "stdout",
     "output_type": "stream",
     "text": [
      "[2023-07-22 10:36:46,962: INFO: common: yaml file: config/config.yaml loaded successfully]\n",
      "[2023-07-22 10:36:46,965: INFO: common: yaml file: params.yaml loaded successfully]\n",
      "[2023-07-22 10:36:46,965: INFO: common: created directory at: artifacts]\n",
      "[2023-07-22 10:36:46,966: INFO: common: created directory at: artifacts/model_validation]\n",
      "[2023-07-22 10:36:47,672: INFO: common: json file saved at: artifacts/model_validation/results.json]\n"
     ]
    }
   ],
   "source": [
    "try:\n",
    "    config = ConfigurationManager()\n",
    "    data_validation_config = config.get_model_validation_config()\n",
    "    data_transformation = ModelValidation(config=data_validation_config)\n",
    "    data_transformation.validate_model_performance()\n",
    "except Exception as e:\n",
    "    raise e"
   ]
  }
 ],
 "metadata": {
  "kernelspec": {
   "display_name": "Python 3",
   "language": "python",
   "name": "python3"
  },
  "language_info": {
   "codemirror_mode": {
    "name": "ipython",
    "version": 3
   },
   "file_extension": ".py",
   "mimetype": "text/x-python",
   "name": "python",
   "nbconvert_exporter": "python",
   "pygments_lexer": "ipython3",
   "version": "3.9.17"
  },
  "orig_nbformat": 4
 },
 "nbformat": 4,
 "nbformat_minor": 2
}
